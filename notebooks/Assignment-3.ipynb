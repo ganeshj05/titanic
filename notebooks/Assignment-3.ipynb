{
 "cells": [
  {
   "cell_type": "code",
   "execution_count": 39,
   "metadata": {},
   "outputs": [],
   "source": [
    "students = [\n",
    "    {\"Name\":\"abc\", \"deails\":{\"id\":9,\"Marks\":[90,25,29,95]}},\n",
    "    {\"Name\":\"def\",\"deails\":{\"id\":2,\"Marks\":[79,56,53,65]}},\n",
    "    {\"Name\":\"hig\",\"deails\":{\"id\":3,\"Marks\":[66,64,68,55]}},\n",
    "    {\"Name\":\"klm\",\"deails\":{\"id\":4,\"Marks\":[55,54,56,85]}},\n",
    "    {\"Name\":\"mno\",\"deails\":{\"id\":5,\"Marks\":[89,56,95,86]}},\n",
    "    {\"Name\":\"pqr\",\"deails\":{\"id\":6,\"Marks\":[68,45,24,83]}},\n",
    "    {\"Name\":\"rst\",\"deails\":{\"id\":7,\"Marks\":[96,82,59,36]}},\n",
    "    {\"Name\":\"uvw\",\"deails\":{\"id\":8,\"Marks\":[47,76,72,55]}},\n",
    "    {\"Name\":\"xyz\",\"deails\":{\"id\":9,\"Marks\":[35,65,80,86]}},\n",
    "    {\"Name\":\"x1y1\",\"deails\":{\"id\":90,\"Marks\":[26,37,76,64]}}\n",
    "]"
   ]
  },
  {
   "cell_type": "markdown",
   "metadata": {},
   "source": [
    "# Supplement Average     "
   ]
  },
  {
   "cell_type": "code",
   "execution_count": 41,
   "metadata": {},
   "outputs": [],
   "source": [
    "import numpy as np\n",
    "\n",
    "counter = 0\n",
    "for student in students:\n",
    "    #print(np.mean(student['deails']['Marks']))\n",
    "    students[counter]['deails']['Avg'] = np.mean(student['deails']['Marks'])\n",
    "    counter += 1\n",
    "    "
   ]
  },
  {
   "cell_type": "code",
   "execution_count": 42,
   "metadata": {},
   "outputs": [
    {
     "name": "stdout",
     "output_type": "stream",
     "text": [
      "[{'Name': 'abc', 'deails': {'id': 9, 'Marks': [90, 25, 29, 95], 'Avg': 59.75}}, {'Name': 'def', 'deails': {'id': 2, 'Marks': [79, 56, 53, 65], 'Avg': 63.25}}, {'Name': 'hig', 'deails': {'id': 3, 'Marks': [66, 64, 68, 55], 'Avg': 63.25}}, {'Name': 'klm', 'deails': {'id': 4, 'Marks': [55, 54, 56, 85], 'Avg': 62.5}}, {'Name': 'mno', 'deails': {'id': 5, 'Marks': [89, 56, 95, 86], 'Avg': 81.5}}, {'Name': 'pqr', 'deails': {'id': 6, 'Marks': [68, 45, 24, 83], 'Avg': 55.0}}, {'Name': 'rst', 'deails': {'id': 7, 'Marks': [96, 82, 59, 36], 'Avg': 68.25}}, {'Name': 'uvw', 'deails': {'id': 8, 'Marks': [47, 76, 72, 55], 'Avg': 62.5}}, {'Name': 'xyz', 'deails': {'id': 9, 'Marks': [35, 65, 80, 86], 'Avg': 66.5}}, {'Name': 'x1y1', 'deails': {'id': 90, 'Marks': [26, 37, 76, 64], 'Avg': 50.75}}]\n"
     ]
    }
   ],
   "source": [
    "print(students)"
   ]
  },
  {
   "cell_type": "markdown",
   "metadata": {},
   "source": [
    "# Top N Students"
   ]
  },
  {
   "cell_type": "code",
   "execution_count": 46,
   "metadata": {},
   "outputs": [],
   "source": [
    "def takefirst(element):\n",
    "    return element['deails']['Avg']"
   ]
  },
  {
   "cell_type": "code",
   "execution_count": 58,
   "metadata": {},
   "outputs": [],
   "source": [
    "def TopNStudens(l_list,n):\n",
    "    l_list.sort(key=takefirst,reverse=True)\n",
    "    return l_list[:n]"
   ]
  },
  {
   "cell_type": "code",
   "execution_count": 66,
   "metadata": {},
   "outputs": [
    {
     "data": {
      "text/plain": [
       "[{'Name': 'mno',\n",
       "  'deails': {'id': 5,\n",
       "   'Marks': [89, 56, 95, 86],\n",
       "   'Avg': 81.5,\n",
       "   'SupplementGrades': 'B'}},\n",
       " {'Name': 'rst',\n",
       "  'deails': {'id': 7,\n",
       "   'Marks': [96, 82, 59, 36],\n",
       "   'Avg': 68.25,\n",
       "   'SupplementGrades': 'C'}},\n",
       " {'Name': 'xyz',\n",
       "  'deails': {'id': 9,\n",
       "   'Marks': [35, 65, 80, 86],\n",
       "   'Avg': 66.5,\n",
       "   'SupplementGrades': 'C'}},\n",
       " {'Name': 'def',\n",
       "  'deails': {'id': 2,\n",
       "   'Marks': [79, 56, 53, 65],\n",
       "   'Avg': 63.25,\n",
       "   'SupplementGrades': 'C'}},\n",
       " {'Name': 'hig',\n",
       "  'deails': {'id': 3,\n",
       "   'Marks': [66, 64, 68, 55],\n",
       "   'Avg': 63.25,\n",
       "   'SupplementGrades': 'C'}},\n",
       " {'Name': 'klm',\n",
       "  'deails': {'id': 4,\n",
       "   'Marks': [55, 54, 56, 85],\n",
       "   'Avg': 62.5,\n",
       "   'SupplementGrades': 'C'}},\n",
       " {'Name': 'uvw',\n",
       "  'deails': {'id': 8,\n",
       "   'Marks': [47, 76, 72, 55],\n",
       "   'Avg': 62.5,\n",
       "   'SupplementGrades': 'C'}},\n",
       " {'Name': 'abc',\n",
       "  'deails': {'id': 9,\n",
       "   'Marks': [90, 25, 29, 95],\n",
       "   'Avg': 59.75,\n",
       "   'SupplementGrades': 'D'}},\n",
       " {'Name': 'pqr',\n",
       "  'deails': {'id': 6,\n",
       "   'Marks': [68, 45, 24, 83],\n",
       "   'Avg': 55.0,\n",
       "   'SupplementGrades': 'D'}},\n",
       " {'Name': 'x1y1',\n",
       "  'deails': {'id': 90,\n",
       "   'Marks': [26, 37, 76, 64],\n",
       "   'Avg': 50.75,\n",
       "   'SupplementGrades': 'D'}}]"
      ]
     },
     "execution_count": 66,
     "metadata": {},
     "output_type": "execute_result"
    }
   ],
   "source": [
    "TopNStudens(students,10)"
   ]
  },
  {
   "cell_type": "markdown",
   "metadata": {},
   "source": [
    "# Supplement Grades (90-A, 70-B,60-C,50-D else Fail)"
   ]
  },
  {
   "cell_type": "code",
   "execution_count": 63,
   "metadata": {},
   "outputs": [],
   "source": [
    "def SupplementGrades(marks):\n",
    "    if marks >= 90:\n",
    "        return 'A'\n",
    "    elif marks >= 70:\n",
    "        return 'B'\n",
    "    elif marks >= 60:\n",
    "        return 'C'\n",
    "    elif marks >= 50:\n",
    "        return 'D'\n",
    "    else:\n",
    "        return 'Fail'\n"
   ]
  },
  {
   "cell_type": "code",
   "execution_count": 65,
   "metadata": {},
   "outputs": [],
   "source": [
    "counter = 0\n",
    "for student in students:\n",
    "    #print(np.mean(student['deails']['Marks']))\n",
    "    students[counter]['deails']['SupplementGrades'] = SupplementGrades(student['deails']['Avg'])\n",
    "    counter += 1\n",
    "    "
   ]
  },
  {
   "cell_type": "markdown",
   "metadata": {},
   "source": [
    "# Add Rank"
   ]
  },
  {
   "cell_type": "code",
   "execution_count": 68,
   "metadata": {},
   "outputs": [],
   "source": [
    "maxlen = len(students)\n",
    "counter = 0\n",
    "for student in TopNStudens(students,maxlen):\n",
    "    students[counter]['deails']['Rank'] = counter + 1\n",
    "    counter += 1 "
   ]
  },
  {
   "cell_type": "code",
   "execution_count": 70,
   "metadata": {},
   "outputs": [
    {
     "data": {
      "text/plain": [
       "[{'Name': 'mno',\n",
       "  'deails': {'id': 5,\n",
       "   'Marks': [89, 56, 95, 86],\n",
       "   'Avg': 81.5,\n",
       "   'SupplementGrades': 'B',\n",
       "   'Rank': 1}},\n",
       " {'Name': 'rst',\n",
       "  'deails': {'id': 7,\n",
       "   'Marks': [96, 82, 59, 36],\n",
       "   'Avg': 68.25,\n",
       "   'SupplementGrades': 'C',\n",
       "   'Rank': 2}},\n",
       " {'Name': 'xyz',\n",
       "  'deails': {'id': 9,\n",
       "   'Marks': [35, 65, 80, 86],\n",
       "   'Avg': 66.5,\n",
       "   'SupplementGrades': 'C',\n",
       "   'Rank': 3}},\n",
       " {'Name': 'def',\n",
       "  'deails': {'id': 2,\n",
       "   'Marks': [79, 56, 53, 65],\n",
       "   'Avg': 63.25,\n",
       "   'SupplementGrades': 'C',\n",
       "   'Rank': 4}},\n",
       " {'Name': 'hig',\n",
       "  'deails': {'id': 3,\n",
       "   'Marks': [66, 64, 68, 55],\n",
       "   'Avg': 63.25,\n",
       "   'SupplementGrades': 'C',\n",
       "   'Rank': 5}},\n",
       " {'Name': 'klm',\n",
       "  'deails': {'id': 4,\n",
       "   'Marks': [55, 54, 56, 85],\n",
       "   'Avg': 62.5,\n",
       "   'SupplementGrades': 'C',\n",
       "   'Rank': 6}},\n",
       " {'Name': 'uvw',\n",
       "  'deails': {'id': 8,\n",
       "   'Marks': [47, 76, 72, 55],\n",
       "   'Avg': 62.5,\n",
       "   'SupplementGrades': 'C',\n",
       "   'Rank': 7}},\n",
       " {'Name': 'abc',\n",
       "  'deails': {'id': 9,\n",
       "   'Marks': [90, 25, 29, 95],\n",
       "   'Avg': 59.75,\n",
       "   'SupplementGrades': 'D',\n",
       "   'Rank': 8}},\n",
       " {'Name': 'pqr',\n",
       "  'deails': {'id': 6,\n",
       "   'Marks': [68, 45, 24, 83],\n",
       "   'Avg': 55.0,\n",
       "   'SupplementGrades': 'D',\n",
       "   'Rank': 9}},\n",
       " {'Name': 'x1y1',\n",
       "  'deails': {'id': 90,\n",
       "   'Marks': [26, 37, 76, 64],\n",
       "   'Avg': 50.75,\n",
       "   'SupplementGrades': 'D',\n",
       "   'Rank': 10}}]"
      ]
     },
     "execution_count": 70,
     "metadata": {},
     "output_type": "execute_result"
    }
   ],
   "source": [
    "students"
   ]
  },
  {
   "cell_type": "markdown",
   "metadata": {},
   "source": [
    "# Books dictionary "
   ]
  },
  {
   "cell_type": "code",
   "execution_count": 107,
   "metadata": {},
   "outputs": [],
   "source": [
    "books_dict = {\"books\":[\n",
    "    {\"Author\":\"Abc\", \"Title\":\"safsd\", \"PublisherName\":\"asdfsadf\", \"Year\":\"2000\",\"Price\":700},\n",
    "    {\"Author\":\"fgfdg\", \"Title\":\"dfg\", \"PublisherName\":\"asdfsaopodf\", \"Year\":\"2010\",\"Price\":1020},\n",
    "    {\"Author\":\"fg\", \"Title\":\"ghj\", \"PublisherName\":\"asdfsioadf\", \"Year\":\"2018\",\"Price\":800},\n",
    "    {\"Author\":\"ghg\", \"Title\":\"jkljkl\", \"PublisherName\":\"hjkl\", \"Year\":\"2020\",\"Price\":650},\n",
    "    {\"Author\":\"ghgh\", \"Title\":\" m\", \"PublisherName\":\"asdfsartydf\", \"Year\":\"2000\",\"Price\":1400},\n",
    "    {\"Author\":\"Abfghc\", \"Title\":\"hjkl\", \"PublisherName\":\"yr\", \"Year\":\"2000\",\"Price\":1500}\n",
    "    ]\n",
    "}"
   ]
  },
  {
   "cell_type": "markdown",
   "metadata": {},
   "source": [
    "# Print books by Publisher, by Year, by Author, below 1000"
   ]
  },
  {
   "cell_type": "code",
   "execution_count": 108,
   "metadata": {},
   "outputs": [],
   "source": [
    "import pandas as pd\n",
    "\n",
    "booksDF_raw = pd.DataFrame.from_dict(books_dict['books'])\n"
   ]
  },
  {
   "cell_type": "code",
   "execution_count": 109,
   "metadata": {},
   "outputs": [],
   "source": [
    "booksDF = booksDF_raw[booksDF_raw.Price < 1000]\n"
   ]
  },
  {
   "cell_type": "code",
   "execution_count": 110,
   "metadata": {},
   "outputs": [],
   "source": [
    "result = booksDF.sort_values(['PublisherName','Year','Author'])"
   ]
  },
  {
   "cell_type": "code",
   "execution_count": 111,
   "metadata": {},
   "outputs": [
    {
     "data": {
      "text/html": [
       "<div>\n",
       "<style scoped>\n",
       "    .dataframe tbody tr th:only-of-type {\n",
       "        vertical-align: middle;\n",
       "    }\n",
       "\n",
       "    .dataframe tbody tr th {\n",
       "        vertical-align: top;\n",
       "    }\n",
       "\n",
       "    .dataframe thead th {\n",
       "        text-align: right;\n",
       "    }\n",
       "</style>\n",
       "<table border=\"1\" class=\"dataframe\">\n",
       "  <thead>\n",
       "    <tr style=\"text-align: right;\">\n",
       "      <th></th>\n",
       "      <th>Author</th>\n",
       "      <th>Price</th>\n",
       "      <th>PublisherName</th>\n",
       "      <th>Title</th>\n",
       "      <th>Year</th>\n",
       "    </tr>\n",
       "  </thead>\n",
       "  <tbody>\n",
       "    <tr>\n",
       "      <th>0</th>\n",
       "      <td>Abc</td>\n",
       "      <td>700</td>\n",
       "      <td>asdfsadf</td>\n",
       "      <td>safsd</td>\n",
       "      <td>2000</td>\n",
       "    </tr>\n",
       "    <tr>\n",
       "      <th>2</th>\n",
       "      <td>fg</td>\n",
       "      <td>800</td>\n",
       "      <td>asdfsioadf</td>\n",
       "      <td>ghj</td>\n",
       "      <td>2018</td>\n",
       "    </tr>\n",
       "    <tr>\n",
       "      <th>3</th>\n",
       "      <td>ghg</td>\n",
       "      <td>650</td>\n",
       "      <td>hjkl</td>\n",
       "      <td>jkljkl</td>\n",
       "      <td>2020</td>\n",
       "    </tr>\n",
       "  </tbody>\n",
       "</table>\n",
       "</div>"
      ],
      "text/plain": [
       "  Author  Price PublisherName   Title  Year\n",
       "0    Abc    700      asdfsadf   safsd  2000\n",
       "2     fg    800    asdfsioadf     ghj  2018\n",
       "3    ghg    650          hjkl  jkljkl  2020"
      ]
     },
     "execution_count": 111,
     "metadata": {},
     "output_type": "execute_result"
    }
   ],
   "source": [
    "result"
   ]
  }
 ],
 "metadata": {
  "kernelspec": {
   "display_name": "Python 3",
   "language": "python",
   "name": "python3"
  },
  "language_info": {
   "codemirror_mode": {
    "name": "ipython",
    "version": 3
   },
   "file_extension": ".py",
   "mimetype": "text/x-python",
   "name": "python",
   "nbconvert_exporter": "python",
   "pygments_lexer": "ipython3",
   "version": "3.6.2"
  }
 },
 "nbformat": 4,
 "nbformat_minor": 2
}
