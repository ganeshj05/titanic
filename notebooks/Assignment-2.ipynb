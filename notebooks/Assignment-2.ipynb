{
 "cells": [
  {
   "cell_type": "code",
   "execution_count": 4,
   "metadata": {},
   "outputs": [],
   "source": [
    "def quadratic(a,b,c):\n",
    "    import cmath\n",
    "    \"\"\"\n",
    "    Executing following formula:\n",
    "                                 ____________   \n",
    "                         -b +- \\/sqr(b) - 4ac\n",
    "                     x = -----------------------\n",
    "                                 2a\n",
    "    \"\"\"\n",
    "    \n",
    "    simplified1 = (b**2) - (4*a*c)\n",
    "    simplified2 = 2*a\n",
    "    \n",
    "    sol1 = (-b-cmath.sqrt(simplified1)) / simplified2\n",
    "    sol2 = (-b+cmath.sqrt(simplified1)) / simplified2\n",
    "    \n",
    "    print(\"Solutions are {0} and {1}\".format(sol1,sol2))"
   ]
  },
  {
   "cell_type": "code",
   "execution_count": 5,
   "metadata": {},
   "outputs": [],
   "source": [
    "def euclid_gcd(a,b):\n",
    "    if a == 0:\n",
    "        return b\n",
    "    return euclid_gcd(b%a,a)\n",
    "    "
   ]
  },
  {
   "cell_type": "code",
   "execution_count": 39,
   "metadata": {},
   "outputs": [],
   "source": [
    "def coprime(a):\n",
    "    coprimeList = []\n",
    "    for i in range(2,a):\n",
    "        print(i)\n",
    "        if euclid_gcd(a,i) == 1:\n",
    "            coprimeList.append(i)\n",
    "    \n",
    "    return coprimeList"
   ]
  },
  {
   "cell_type": "code",
   "execution_count": 22,
   "metadata": {},
   "outputs": [],
   "source": [
    "def sumNotDivisible(a,b):\n",
    "    \"\"\"\n",
    "     a list of components divisibled\n",
    "     b limit of range\n",
    "     Sample run\n",
    "        a = [2,3,5]\n",
    "        b = 10\n",
    "        sumNotDivisible(a,b)\n",
    "    \"\"\"\n",
    "    \n",
    "    sum = 0\n",
    "    for i in range(1,b): \n",
    "        if i%a[0] != 0 and i%a[1] != 0 and i%a[2] != 0:\n",
    "            sum += i\n",
    "    \n",
    "    print(\"Sum of number not divisible by {0} is {1}\".format(str(a),str(sum)))\n",
    "    "
   ]
  },
  {
   "cell_type": "code",
   "execution_count": 23,
   "metadata": {},
   "outputs": [
    {
     "name": "stdout",
     "output_type": "stream",
     "text": [
      "Sum of number not divisible by [2, 3, 5] is 1268\n"
     ]
    }
   ],
   "source": [
    "a = [2,3,5]\n",
    "b = 100\n",
    "sumNotDivisible(a,b)"
   ]
  },
  {
   "cell_type": "code",
   "execution_count": 30,
   "metadata": {},
   "outputs": [
    {
     "data": {
      "text/plain": [
       "[<matplotlib.lines.Line2D at 0x64aa670>]"
      ]
     },
     "execution_count": 30,
     "metadata": {},
     "output_type": "execute_result"
    }
   ],
   "source": [
    "!pip install matplotlib\n"
   ]
  },
  {
   "cell_type": "code",
   "execution_count": 32,
   "metadata": {},
   "outputs": [],
   "source": [
    "%matplotlib inline"
   ]
  },
  {
   "cell_type": "code",
   "execution_count": 33,
   "metadata": {},
   "outputs": [
    {
     "data": {
      "text/plain": [
       "[<matplotlib.lines.Line2D at 0x66827d0>]"
      ]
     },
     "execution_count": 33,
     "metadata": {},
     "output_type": "execute_result"
    },
    {
     "data": {
      "image/png": "[encoded data removed]",
      "text/plain": [
       "<Figure size 432x288 with 1 Axes>"
      ]
     },
     "metadata": {},
     "output_type": "display_data"
    }
   ],
   "source": [
    "import matplotlib.pyplot as plt\n",
    "x = [2,5,3,5,6]\n",
    "y= [10,50,48,6,65]\n",
    "\n",
    "plt.plot(x,y)\n"
   ]
  }
 ],
 "metadata": {
  "kernelspec": {
   "display_name": "Python 3",
   "language": "python",
   "name": "python3"
  },
  "language_info": {
   "codemirror_mode": {
    "name": "ipython",
    "version": 3
   },
   "file_extension": ".py",
   "mimetype": "text/x-python",
   "name": "python",
   "nbconvert_exporter": "python",
   "pygments_lexer": "ipython3",
   "version": "3.6.2"
  }
 },
 "nbformat": 4,
 "nbformat_minor": 2
}
