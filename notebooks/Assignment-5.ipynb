{
 "cells": [
  {
   "cell_type": "code",
   "execution_count": null,
   "metadata": {},
   "outputs": [],
   "source": []
  },
  {
   "cell_type": "code",
   "execution_count": 17,
   "metadata": {},
   "outputs": [],
   "source": [
    "text = \"\"\"Under the hood, these functions simply create a pattern object for you and \n",
    "call the appropriate method on it. They also store the compiled object in a cache, so future calls using the same RE won’t need to parse the pattern again and again.\"\"\""
   ]
  },
  {
   "cell_type": "markdown",
   "metadata": {},
   "source": [
    "# Count Lines"
   ]
  },
  {
   "cell_type": "code",
   "execution_count": 20,
   "metadata": {},
   "outputs": [],
   "source": [
    "def countLines(text):\n",
    "    n = text.split(\"\\n\")\n",
    "    return len(n)"
   ]
  },
  {
   "cell_type": "code",
   "execution_count": 21,
   "metadata": {},
   "outputs": [
    {
     "data": {
      "text/plain": [
       "2"
      ]
     },
     "execution_count": 21,
     "metadata": {},
     "output_type": "execute_result"
    }
   ],
   "source": [
    "countLines(text)"
   ]
  },
  {
   "cell_type": "markdown",
   "metadata": {},
   "source": [
    "# Count Sentense"
   ]
  },
  {
   "cell_type": "code",
   "execution_count": null,
   "metadata": {},
   "outputs": [],
   "source": [
    "import re"
   ]
  },
  {
   "cell_type": "code",
   "execution_count": 22,
   "metadata": {},
   "outputs": [],
   "source": [
    "def countSentense(text):\n",
    "    l = re.compile(\"[.]\\s[A-Z]\").split(text)\n",
    "    return len(l)   "
   ]
  },
  {
   "cell_type": "code",
   "execution_count": 23,
   "metadata": {},
   "outputs": [
    {
     "data": {
      "text/plain": [
       "2"
      ]
     },
     "execution_count": 23,
     "metadata": {},
     "output_type": "execute_result"
    }
   ],
   "source": [
    "countSentense(text)"
   ]
  },
  {
   "cell_type": "markdown",
   "metadata": {},
   "source": [
    "# Count Words"
   ]
  },
  {
   "cell_type": "code",
   "execution_count": 32,
   "metadata": {},
   "outputs": [],
   "source": [
    "def countWords(text):\n",
    "    l = text.split(\" \")\n",
    "    s = set(l)\n",
    "    return len(l),len(s)"
   ]
  },
  {
   "cell_type": "code",
   "execution_count": 34,
   "metadata": {},
   "outputs": [
    {
     "data": {
      "text/plain": [
       "(44, 36)"
      ]
     },
     "execution_count": 34,
     "metadata": {},
     "output_type": "execute_result"
    }
   ],
   "source": [
    "countWords(text)"
   ]
  },
  {
   "cell_type": "markdown",
   "metadata": {},
   "source": [
    "# Frequncy of word The"
   ]
  },
  {
   "cell_type": "code",
   "execution_count": 53,
   "metadata": {},
   "outputs": [],
   "source": [
    "def countGivenWord(text,word):\n",
    "    #return text.lower().count(word.lower())\n",
    "    c = list(1 for match in re.finditer(word.lower(),text.lower()))\n",
    "    return len(c)"
   ]
  },
  {
   "cell_type": "code",
   "execution_count": 55,
   "metadata": {},
   "outputs": [
    {
     "data": {
      "text/plain": [
       "7"
      ]
     },
     "execution_count": 55,
     "metadata": {},
     "output_type": "execute_result"
    }
   ],
   "source": [
    "countGivenWord(text,\"The\")"
   ]
  },
  {
   "cell_type": "markdown",
   "metadata": {},
   "source": [
    "# Scalar "
   ]
  },
  {
   "cell_type": "code",
   "execution_count": 1,
   "metadata": {},
   "outputs": [],
   "source": [
    "import numpy as np\n",
    "import math\n",
    "import sympy\n"
   ]
  },
  {
   "cell_type": "code",
   "execution_count": 39,
   "metadata": {},
   "outputs": [
    {
     "name": "stdout",
     "output_type": "stream",
     "text": [
      "[[5 3 2]\n",
      " [2 1 1]\n",
      " [0 0 0]]\n",
      "--------------\n",
      "[[5, 3], [2, 1]]\n",
      "--------------\n",
      "[2, 1]\n",
      "Value of K1,K2 is 1.0 and -1.0\n"
     ]
    }
   ],
   "source": [
    "w = np.array([2, 3, 4])\n",
    "v1 = np.array([5, 6, 8])\n",
    "v2 = np.array([3, 3, 4])\n",
    "\n",
    "r = (np.column_stack((v1,v2,w)))\n",
    "\n",
    "\n",
    "r[1] = np.divide(r[1],3)\n",
    "\n",
    "r[2] = np.divide(r[2],3)\n",
    "\n",
    "r[2] = np.subtract(r[1],r[2])\n",
    "\n",
    "print(r)\n",
    "l1 = [[*r[0,0:2]], [*r[1,0:2]]]\n",
    "l2= [r[0,2],r[1,2]]\n",
    "print(\"--------------\")\n",
    "print(l1)\n",
    "print(\"--------------\")\n",
    "print(l2)\n",
    "l2 = list(filter(lambda x:x != 0, l2))\n",
    "ans = np.linalg.solve(l1,l2)\n",
    "a = np.ceil(ans[0]) \n",
    "b=np.floor(ans[1])\n",
    "\n",
    "print(\"Value of K1,K2 is {0} and {1}\".format(a,b))"
   ]
  },
  {
   "cell_type": "code",
   "execution_count": null,
   "metadata": {},
   "outputs": [],
   "source": [
    "w = np.array([2, 3, 4])\n",
    "v1 = np.array([5, 6, 8])\n",
    "v2 = np.array([3, 3, 4])\n",
    "\n",
    "a=np.column_stack([v1,v2])\n",
    "b=np.linalg.lstsq(a,w)\n",
    "\n",
    "c,d=b[0]\n"
   ]
  }
 ],
 "metadata": {
  "kernelspec": {
   "display_name": "Python 3",
   "language": "python",
   "name": "python3"
  },
  "language_info": {
   "codemirror_mode": {
    "name": "ipython",
    "version": 3
   },
   "file_extension": ".py",
   "mimetype": "text/x-python",
   "name": "python",
   "nbconvert_exporter": "python",
   "pygments_lexer": "ipython3",
   "version": "3.6.5"
  }
 },
 "nbformat": 4,
 "nbformat_minor": 2
}
