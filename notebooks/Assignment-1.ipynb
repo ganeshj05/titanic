{
 "cells": [
  {
   "cell_type": "code",
   "execution_count": 54,
   "metadata": {},
   "outputs": [],
   "source": [
    "import math\n",
    "\n",
    "def pythagorean_triple(limit):\n",
    "    z = 0\n",
    "    x = 2\n",
    "    while z < limit:\n",
    "        for y in range(x,x*x):\n",
    "            z = math.sqrt(x*x + y*y)\n",
    "            #Check if this is integer\n",
    "            if z.is_integer():\n",
    "                print(x,y,z)\n",
    "        x = x + 1\n"
   ]
  },
  {
   "cell_type": "code",
   "execution_count": 56,
   "metadata": {},
   "outputs": [
    {
     "name": "stdout",
     "output_type": "stream",
     "text": [
      "3 4 5.0\n",
      "5 12 13.0\n",
      "6 8 10.0\n",
      "7 24 25.0\n",
      "8 15 17.0\n",
      "9 12 15.0\n",
      "9 40 41.0\n",
      "10 24 26.0\n",
      "11 60 61.0\n"
     ]
    }
   ],
   "source": [
    "pythagorean_triple(100)"
   ]
  },
  {
   "cell_type": "code",
   "execution_count": 72,
   "metadata": {},
   "outputs": [],
   "source": [
    "def mean(l_list):\n",
    "    z = 0\n",
    "    for i in l_list:\n",
    "        z = i + z\n",
    "    return z / len(l_list)"
   ]
  },
  {
   "cell_type": "code",
   "execution_count": 79,
   "metadata": {},
   "outputs": [],
   "source": [
    "def Variance(l_list):\n",
    "    m = mean(l_list)\n",
    "    z = 0\n",
    "    for i in l_list:\n",
    "        z = (m-i)**2 + z\n",
    "    \n",
    "    return z / (len(l_list)-1)"
   ]
  },
  {
   "cell_type": "code",
   "execution_count": 90,
   "metadata": {},
   "outputs": [],
   "source": [
    "def std_dev(l_list):\n",
    "    import math\n",
    "    z = math.sqrt(Variance(l_list))\n",
    "    \n",
    "    return round(z)\n",
    "    "
   ]
  },
  {
   "cell_type": "code",
   "execution_count": 93,
   "metadata": {},
   "outputs": [
    {
     "data": {
      "text/plain": [
       "165"
      ]
     },
     "execution_count": 93,
     "metadata": {},
     "output_type": "execute_result"
    }
   ],
   "source": [
    "l_list = [600, 470, 170, 430, 300]\n",
    "std_dev(l_list)"
   ]
  },
  {
   "cell_type": "code",
   "execution_count": 101,
   "metadata": {},
   "outputs": [],
   "source": [
    "def compounded_num(compounded):\n",
    "    if compounded == 'quarterly':\n",
    "        return 4\n",
    "    elif compounded == 'monthly':\n",
    "        return 12\n",
    "    elif compounded == 'weekly':\n",
    "        return 52\n",
    "    elif compounded == 'daily':\n",
    "        return 365\n",
    "    "
   ]
  },
  {
   "cell_type": "code",
   "execution_count": 112,
   "metadata": {},
   "outputs": [],
   "source": [
    "def compound_instrest(amount,duration,rate,compounded):\n",
    "    simplified1= ((((rate / 100)/4)+1)*amount)\n",
    "    print(simplified1)\n",
    "    simplified2=simplified1**(compounded_num(compounded)*duration)\n",
    "    return simplified2\n",
    " "
   ]
  },
  {
   "cell_type": "code",
   "execution_count": 113,
   "metadata": {},
   "outputs": [
    {
     "name": "stdout",
     "output_type": "stream",
     "text": [
      "1516.125\n"
     ]
    },
    {
     "data": {
      "text/plain": [
       "2.175906439573089e+76"
      ]
     },
     "execution_count": 113,
     "metadata": {},
     "output_type": "execute_result"
    }
   ],
   "source": [
    "compound_instrest(1500,6,4.3,'quarterly')"
   ]
  }
 ],
 "metadata": {
  "kernelspec": {
   "display_name": "Python 3",
   "language": "python",
   "name": "python3"
  },
  "language_info": {
   "codemirror_mode": {
    "name": "ipython",
    "version": 3
   },
   "file_extension": ".py",
   "mimetype": "text/x-python",
   "name": "python",
   "nbconvert_exporter": "python",
   "pygments_lexer": "ipython3",
   "version": "3.6.5"
  }
 },
 "nbformat": 4,
 "nbformat_minor": 2
}
